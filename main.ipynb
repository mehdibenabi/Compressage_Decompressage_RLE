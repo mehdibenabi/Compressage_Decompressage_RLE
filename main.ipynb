{
 "cells": [
  {
   "cell_type": "code",
   "execution_count": 1,
   "metadata": {},
   "outputs": [],
   "source": [
    "import numpy as np\n",
    "import matplotlib.pyplot as plt\n"
   ]
  },
  {
   "cell_type": "code",
   "execution_count": 11,
   "metadata": {},
   "outputs": [
    {
     "name": "stdout",
     "output_type": "stream",
     "text": [
      "Fonctions de compression et taux de compression définies.\n"
     ]
    }
   ],
   "source": [
    "def encode_image(image):\n",
    "    encoded_data = []\n",
    "    i = 0\n",
    "    n = len(image)\n",
    "\n",
    "    while i < n:\n",
    "        current_pixel = image[i]\n",
    "        run_length = 1\n",
    "        \n",
    "        while i + run_length < n and image[i + run_length] == current_pixel:\n",
    "            run_length += 1\n",
    "\n",
    "        if run_length >= 3:  # Codage de répétition\n",
    "            code = (0x8000 | run_length, current_pixel)\n",
    "            encoded_data.append(code)\n",
    "            i += run_length\n",
    "        else:  # Codage de séquence unique\n",
    "            seq_length = 0\n",
    "            sequence = []\n",
    "\n",
    "            while i < n and (seq_length < 3 or (i + 1 < n and image[i] != image[i + 1])):\n",
    "                sequence.append(image[i])\n",
    "                i += 1\n",
    "                seq_length += 1\n",
    "\n",
    "            code = (seq_length, sequence)\n",
    "            encoded_data.append(code)\n",
    "\n",
    "    return encoded_data\n",
    "\n",
    "def save_encoded_image(encoded_data, filename):\n",
    "    with open(filename, 'wb') as f:\n",
    "        for item in encoded_data:\n",
    "            if isinstance(item[1], list):  # Séquence unique\n",
    "                f.write(item[0].to_bytes(2, byteorder='big'))\n",
    "                f.write(bytes(item[1]))\n",
    "            else:  # Répétition\n",
    "                f.write(item[0].to_bytes(2, byteorder='big'))\n",
    "                f.write(item[1].to_bytes(1, byteorder='big'))\n",
    "    print(f\"Image compressée sauvegardée dans '{filename}'.\")\n",
    "\n",
    "def calculate_compression_rate(original_image, encoded_data):\n",
    "    original_size = len(original_image)\n",
    "    compressed_size = sum(2 + (1 if not isinstance(code[1], list) else len(code[1])) for code in encoded_data)\n",
    "    compression_rate = original_size / compressed_size\n",
    "    print(f\"Taille d'origine : {original_size} octets\")\n",
    "    print(f\"Taille compressée : {compressed_size} octets\")\n",
    "    print(f\"Taux de compression : {compression_rate:.2f}\")\n",
    "    return compression_rate\n",
    "\n",
    "print(\"Fonctions de compression et taux de compression définies.\")\n"
   ]
  },
  {
   "cell_type": "code",
   "execution_count": 12,
   "metadata": {},
   "outputs": [
    {
     "name": "stdout",
     "output_type": "stream",
     "text": [
      "Fonctions de décompression et d'affichage définies.\n"
     ]
    }
   ],
   "source": [
    "def decode_image(filename):\n",
    "    image = []\n",
    "    with open(filename, 'rb') as f:\n",
    "        while True:\n",
    "            header = f.read(2)\n",
    "            if not header:\n",
    "                break\n",
    "            flag_and_length = int.from_bytes(header, byteorder='big')\n",
    "            length = flag_and_length & 0x7FFF\n",
    "            is_repetition = (flag_and_length & 0x8000) != 0\n",
    "            \n",
    "            if is_repetition:\n",
    "                pixel_value = int.from_bytes(f.read(1), byteorder='big')\n",
    "                image.extend([pixel_value] * length)\n",
    "            else:\n",
    "                image.extend(f.read(length))\n",
    "                \n",
    "    print(f\"Image décompressée à partir de '{filename}'.\")\n",
    "    return image\n",
    "\n",
    "def display_image(image_data, width, height):\n",
    "    image_array = np.array(image_data).reshape((height, width))\n",
    "    plt.imshow(image_array, cmap='gray')\n",
    "    plt.axis('off')\n",
    "    plt.show()\n",
    "    print(\"Image affichée.\")\n",
    "\n",
    "print(\"Fonctions de décompression et d'affichage définies.\")\n"
   ]
  },
  {
   "cell_type": "code",
   "execution_count": 13,
   "metadata": {},
   "outputs": [
    {
     "name": "stdout",
     "output_type": "stream",
     "text": [
      "Image d'origine :\n",
      "[0, 255, 0, 255, 0, 255, 255, 255, 255, 255, 255, 255, 0, 0, 0, 0, 0, 0, 255, 255, 255, 255, 255, 255, 0, 255, 0, 255, 0, 255, 255, 255, 255, 255, 255, 255]\n",
      "Image compressée sauvegardée dans 'compressed_image.rle'.\n",
      "Taille d'origine : 36 octets\n",
      "Taille compressée : 26 octets\n",
      "Taux de compression : 1.38\n"
     ]
    }
   ],
   "source": [
    "# Exemple d'image 6x6\n",
    "original_image = [\n",
    "    0, 255, 0, 255, 0, 255,\n",
    "    255, 255, 255, 255, 255, 255,\n",
    "    0, 0, 0, 0, 0, 0,\n",
    "    255, 255, 255, 255, 255, 255,\n",
    "    0, 255, 0, 255, 0, 255,\n",
    "    255, 255, 255, 255, 255, 255\n",
    "]\n",
    "print(\"Image d'origine :\")\n",
    "print(original_image)\n",
    "\n",
    "# Compression de l'image\n",
    "encoded_data = encode_image(original_image)\n",
    "save_encoded_image(encoded_data, 'compressed_image.rle')\n",
    "compression_rate = calculate_compression_rate(original_image, encoded_data)\n"
   ]
  },
  {
   "cell_type": "code",
   "execution_count": 14,
   "metadata": {},
   "outputs": [
    {
     "name": "stdout",
     "output_type": "stream",
     "text": [
      "Image décompressée à partir de 'compressed_image.rle'.\n",
      "Image décodée :\n",
      "[0, 255, 0, 255, 0, 255, 255, 255, 255, 255, 255, 255, 0, 0, 0, 0, 0, 0, 255, 255, 255, 255, 255, 255, 0, 255, 0, 255, 0, 255, 255, 255, 255, 255, 255, 255]\n"
     ]
    },
    {
     "data": {
      "image/png": "[encoded data removed]",
      "text/plain": [
       "<Figure size 640x480 with 1 Axes>"
      ]
     },
     "metadata": {},
     "output_type": "display_data"
    },
    {
     "name": "stdout",
     "output_type": "stream",
     "text": [
      "Image affichée.\n"
     ]
    }
   ],
   "source": [
    "decoded_image = decode_image('compressed_image.rle')\n",
    "print(\"Image décodée :\")\n",
    "print(decoded_image)\n",
    "\n",
    "# Afficher l'image\n",
    "display_image(decoded_image, width=6, height=6)\n"
   ]
  }
 ],
 "metadata": {
  "kernelspec": {
   "display_name": "Python 3",
   "language": "python",
   "name": "python3"
  },
  "language_info": {
   "codemirror_mode": {
    "name": "ipython",
    "version": 3
   },
   "file_extension": ".py",
   "mimetype": "text/x-python",
   "name": "python",
   "nbconvert_exporter": "python",
   "pygments_lexer": "ipython3",
   "version": "3.12.6"
  }
 },
 "nbformat": 4,
 "nbformat_minor": 2
}
