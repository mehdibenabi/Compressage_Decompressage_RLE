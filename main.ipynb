{
 "cells": [
  {
   "cell_type": "code",
   "execution_count": 52,
   "metadata": {},
   "outputs": [],
   "source": [
    "import numpy as np\n",
    "import matplotlib.pyplot as plt\n"
   ]
  },
  {
   "cell_type": "code",
   "execution_count": 53,
   "metadata": {},
   "outputs": [
    {
     "name": "stdout",
     "output_type": "stream",
     "text": [
      "Fonctions de compression et taux de compression définies.\n"
     ]
    }
   ],
   "source": [
    "def encode_image(image):\n",
    "    encoded_data = []\n",
    "    i = 0\n",
    "    n = len(image)\n",
    "\n",
    "    while i < n:\n",
    "        current_pixel = image[i]\n",
    "        run_length = 1\n",
    "        \n",
    "        while i + run_length < n and image[i + run_length] == current_pixel:\n",
    "            run_length += 1\n",
    "\n",
    "        if run_length >= 3:  \n",
    "            code = (0x8000 | run_length, current_pixel)\n",
    "            encoded_data.append(code)\n",
    "            i += run_length\n",
    "        else:  \n",
    "            seq_length = 0\n",
    "            sequence = []\n",
    "\n",
    "            while i < n and (seq_length < 3 or (i + 1 < n and image[i] != image[i + 1])):\n",
    "                sequence.append(image[i])\n",
    "                i += 1\n",
    "                seq_length += 1\n",
    "\n",
    "            code = (seq_length, sequence)\n",
    "            encoded_data.append(code)\n",
    "\n",
    "    return encoded_data\n",
    "\n",
    "def save_encoded_image(encoded_data, filename):\n",
    "    with open(filename, 'wb') as f:\n",
    "        for item in encoded_data:\n",
    "            if isinstance(item[1], list):  \n",
    "                f.write(item[0].to_bytes(2, byteorder='big'))\n",
    "                f.write(bytes(item[1]))\n",
    "            else:  \n",
    "                f.write(item[0].to_bytes(2, byteorder='big'))\n",
    "                f.write(item[1].to_bytes(1, byteorder='big'))\n",
    "    print(f\"Image compressée sauvegardée dans '{filename}'.\")\n",
    "\n",
    "def calculate_compression_rate(original_image, encoded_data):\n",
    "    original_size = len(original_image)\n",
    "    compressed_size = sum(2 + (1 if not isinstance(code[1], list) else len(code[1])) for code in encoded_data)\n",
    "    compression_rate = original_size / compressed_size\n",
    "    print(f\"Taille d'origine : {original_size} octets\")\n",
    "    print(f\"Taille compressée : {compressed_size} octets\")\n",
    "    print(f\"Taux de compression : {compression_rate:.2f}\")\n",
    "    return compression_rate\n",
    "\n",
    "print(\"Fonctions de compression et taux de compression définies.\")\n"
   ]
  },
  {
   "cell_type": "code",
   "execution_count": 54,
   "metadata": {},
   "outputs": [
    {
     "name": "stdout",
     "output_type": "stream",
     "text": [
      "Fonctions de décompression et d'affichage définies.\n"
     ]
    }
   ],
   "source": [
    "def decode_image(filename):\n",
    "    image = []\n",
    "    with open(filename, 'rb') as f:\n",
    "        while True:\n",
    "            header = f.read(2)\n",
    "            if not header:\n",
    "                break\n",
    "            flag_and_length = int.from_bytes(header, byteorder='big')\n",
    "            length = flag_and_length & 0x7FFF\n",
    "            is_repetition = (flag_and_length & 0x8000) != 0\n",
    "            \n",
    "            if is_repetition:\n",
    "                pixel_value = int.from_bytes(f.read(1), byteorder='big')\n",
    "                image.extend([pixel_value] * length)\n",
    "            else:\n",
    "                image.extend(f.read(length))\n",
    "                \n",
    "    print(f\"Image décompressée à partir de '{filename}'.\")\n",
    "    return image\n",
    "\n",
    "def display_image(image_data, width, height):\n",
    "    image_array = np.array(image_data).reshape((height, width))\n",
    "    plt.imshow(image_array, cmap='gray')\n",
    "    plt.axis('off')\n",
    "    plt.show()\n",
    "    print(\"Image affichée.\")\n",
    "\n",
    "print(\"Fonctions de décompression et d'affichage définies.\")\n"
   ]
  },
  {
   "cell_type": "code",
   "execution_count": 55,
   "metadata": {},
   "outputs": [
    {
     "name": "stdout",
     "output_type": "stream",
     "text": [
      "Image d'origine :\n",
      "[0, 255, 0, 255, 0, 255, 255, 0, 255, 0, 255, 0, 0, 255, 0, 255, 0, 255, 255, 0, 255, 0, 255, 0, 0, 255, 0, 255, 0, 255, 255, 0, 255, 0, 255, 0]\n",
      "Image compressée sauvegardée dans 'compressed_image.rle'.\n",
      "Taille d'origine : 36 octets\n",
      "Taille compressée : 50 octets\n",
      "Taux de compression : 0.72\n",
      "Image compressée sauvegardée dans 'compressed_image_b.rle'.\n",
      "Taille d'origine : 36 octets\n",
      "Taille compressée : 24 octets\n",
      "Taux de compression : 1.50\n",
      "Image compressée sauvegardée dans 'compressed_image_c.rle'.\n",
      "Taille d'origine : 36 octets\n",
      "Taille compressée : 9 octets\n",
      "Taux de compression : 4.00\n"
     ]
    }
   ],
   "source": [
    "\n",
    "original_image_a = [\n",
    "    0, 255, 0, 255, 0, 255,\n",
    "    255, 0, 255, 0, 255, 0,\n",
    "    0, 255, 0, 255, 0, 255,\n",
    "    255, 0, 255, 0, 255, 0,\n",
    "    0, 255, 0, 255, 0, 255,\n",
    "    255, 0, 255, 0, 255, 0\n",
    "]\n",
    "original_image_b = [\n",
    "    0, 0, 0, 255, 255, 255,\n",
    "    255, 255, 255, 0, 0, 0,\n",
    "    0, 0, 0, 255, 255, 255,\n",
    "    0, 0, 0, 255, 255, 255,\n",
    "    255, 255, 255, 0, 0, 0,\n",
    "    0, 0, 0, 255, 255, 255\n",
    "]\n",
    "original_image_c = [\n",
    "    0, 0, 0, 0, 0, 0,\n",
    "    0, 0, 0, 0, 0, 0,\n",
    "    255, 255, 255, 255, 255, 255,\n",
    "    255, 255, 255, 255, 255, 255,\n",
    "    0, 0, 0, 0, 0, 0,\n",
    "    0, 0, 0, 0, 0, 0\n",
    "]\n",
    "print(\"Image d'origine :\")\n",
    "print(original_image_a)\n",
    "\n",
    "\n",
    "encoded_data = encode_image(original_image_a)\n",
    "save_encoded_image(encoded_data, 'compressed_image.rle')\n",
    "compression_rate = calculate_compression_rate(original_image_a, encoded_data)\n",
    "\n",
    "encoded_data2 = encode_image(original_image_b)\n",
    "save_encoded_image(encoded_data2, 'compressed_image_b.rle')\n",
    "compression_rate2 = calculate_compression_rate(original_image_b, encoded_data2)\n",
    "\n",
    "encoded_data3 = encode_image(original_image_c)\n",
    "save_encoded_image(encoded_data3, 'compressed_image_c.rle')\n",
    "compression_rate3 = calculate_compression_rate(original_image_c, encoded_data3)\n"
   ]
  },
  {
   "cell_type": "code",
   "execution_count": 56,
   "metadata": {},
   "outputs": [
    {
     "name": "stdout",
     "output_type": "stream",
     "text": [
      "Image décompressée à partir de 'compressed_image.rle'.\n",
      "Image a décodée :\n",
      "[0, 255, 0, 255, 0, 255, 255, 0, 255, 0, 255, 0, 0, 255, 0, 255, 0, 255, 255, 0, 255, 0, 255, 0, 0, 255, 0, 255, 0, 255, 255, 0, 255, 0, 255, 0]\n"
     ]
    },
    {
     "data": {
      "image/png": "[encoded data removed]",
      "text/plain": [
       "<Figure size 640x480 with 1 Axes>"
      ]
     },
     "metadata": {},
     "output_type": "display_data"
    },
    {
     "name": "stdout",
     "output_type": "stream",
     "text": [
      "Image affichée.\n",
      "Image décompressée à partir de 'compressed_image_b.rle'.\n",
      "Image b décodée :\n",
      "[0, 0, 0, 255, 255, 255, 255, 255, 255, 0, 0, 0, 0, 0, 0, 255, 255, 255, 0, 0, 0, 255, 255, 255, 255, 255, 255, 0, 0, 0, 0, 0, 0, 255, 255, 255]\n"
     ]
    },
    {
     "data": {
      "image/png": "[encoded data removed]",
      "text/plain": [
       "<Figure size 640x480 with 1 Axes>"
      ]
     },
     "metadata": {},
     "output_type": "display_data"
    },
    {
     "name": "stdout",
     "output_type": "stream",
     "text": [
      "Image affichée.\n",
      "Image décompressée à partir de 'compressed_image_c.rle'.\n",
      "Image c décodée :\n",
      "[0, 0, 0, 0, 0, 0, 0, 0, 0, 0, 0, 0, 255, 255, 255, 255, 255, 255, 255, 255, 255, 255, 255, 255, 0, 0, 0, 0, 0, 0, 0, 0, 0, 0, 0, 0]\n"
     ]
    },
    {
     "data": {
      "image/png": "[encoded data removed]",
      "text/plain": [
       "<Figure size 640x480 with 1 Axes>"
      ]
     },
     "metadata": {},
     "output_type": "display_data"
    },
    {
     "name": "stdout",
     "output_type": "stream",
     "text": [
      "Image affichée.\n"
     ]
    }
   ],
   "source": [
    "decoded_image = decode_image('compressed_image.rle')\n",
    "print(\"Image a décodée :\")\n",
    "print(decoded_image)\n",
    "\n",
    "# Afficher l'image\n",
    "display_image(decoded_image, width=6, height=6)\n",
    "\n",
    "decoded_image2 = decode_image('compressed_image_b.rle')\n",
    "print(\"Image b décodée :\")\n",
    "print(decoded_image2)\n",
    "\n",
    "\n",
    "# Afficher l'image\n",
    "display_image(decoded_image2, width=6, height=6)\n",
    "\n",
    "decoded_image3 = decode_image('compressed_image_c.rle')\n",
    "print(\"Image c décodée :\")\n",
    "print(decoded_image3)\n",
    "\n",
    "# Afficher l'image\n",
    "display_image(decoded_image3, width=6, height=6)\n"
   ]
  }
 ],
 "metadata": {
  "kernelspec": {
   "display_name": "Python 3",
   "language": "python",
   "name": "python3"
  },
  "language_info": {
   "codemirror_mode": {
    "name": "ipython",
    "version": 3
   },
   "file_extension": ".py",
   "mimetype": "text/x-python",
   "name": "python",
   "nbconvert_exporter": "python",
   "pygments_lexer": "ipython3",
   "version": "3.12.6"
  }
 },
 "nbformat": 4,
 "nbformat_minor": 2
}
